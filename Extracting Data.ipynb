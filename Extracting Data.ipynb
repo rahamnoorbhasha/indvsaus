{
 "cells": [
  {
   "cell_type": "code",
   "execution_count": 1,
   "metadata": {},
   "outputs": [],
   "source": [
    "from bs4 import BeautifulSoup\n",
    "import requests\n",
    "import csv"
   ]
  },
  {
   "cell_type": "code",
   "execution_count": 2,
   "metadata": {},
   "outputs": [
    {
     "data": {
      "text/plain": [
       "4"
      ]
     },
     "execution_count": 2,
     "metadata": {},
     "output_type": "execute_result"
    }
   ],
   "source": [
    "url = \"http://stats.espncricinfo.com/ci/engine/stats/index.html?class=2;spanmax1=17+Feb+2019;spanmin1=17+Feb+2014;spanval1=span;team=2;team=6;template=results;type=allround\"\n",
    "r = requests.get(url)\n",
    "soup = BeautifulSoup(r.content, 'html.parser')\n",
    "pag_no = int(soup.find_all(class_='data2')[4].find_all('td')[0].find_all('b')[1].get_text()) + 1\n",
    "pag_no"
   ]
  },
  {
   "cell_type": "code",
   "execution_count": 4,
   "metadata": {},
   "outputs": [],
   "source": [
    "for pag in range(1,pag_no):\n",
    "    url = \"http://stats.espncricinfo.com/ci/engine/stats/index.html?class=2;page=\"+str(pag)+\";spanmax1=17+Feb+2019;spanmin1=17+Feb+2014;spanval1=span;team=2;team=6;template=results;type=allround\"\n",
    "\n",
    "    r = requests.get(url)\n",
    "\n",
    "    soup = BeautifulSoup(r.content, 'html.parser')\n",
    "    \n",
    "    if(pag == 1):\n",
    "        table_header = soup.find_all('thead')[0]\n",
    "        cols = [i.get_text() for i in table_header.find_all('a')]\n",
    "        with open('player_data.csv', 'w', newline='') as writeFile:\n",
    "            writer = csv.writer(writeFile)\n",
    "            writer.writerows([cols])\n",
    "        \n",
    "    table_body = soup.find_all('tbody')[0].find_all('tr')\n",
    "    with open('player_data.csv', 'a', newline='') as writeFile:\n",
    "        writer = csv.writer(writeFile)\n",
    "        for i in table_body:\n",
    "            dat = [j.get_text() for j in i.find_all('td')]\n",
    "            writer.writerows([dat[:-1]])"
   ]
  },
  {
   "cell_type": "code",
   "execution_count": 5,
   "metadata": {},
   "outputs": [
    {
     "data": {
      "text/plain": [
       "4"
      ]
     },
     "execution_count": 5,
     "metadata": {},
     "output_type": "execute_result"
    }
   ],
   "source": [
    "url = \"http://stats.espncricinfo.com/ci/engine/stats/index.html?class=2;spanmax1=17+Feb+2019;spanmin1=17+Feb+2014;spanval1=span;team=2;team=6;template=results;type=batting\"\n",
    "r = requests.get(url)\n",
    "soup = BeautifulSoup(r.content, 'html.parser')\n",
    "pag_no = int(soup.find_all(class_='data2')[4].find_all('td')[0].find_all('b')[1].get_text()) + 1\n",
    "pag_no"
   ]
  },
  {
   "cell_type": "code",
   "execution_count": 7,
   "metadata": {},
   "outputs": [],
   "source": [
    "for pag in range(1,pag_no):\n",
    "    url = \"http://stats.espncricinfo.com/ci/engine/stats/index.html?class=2;page=\"+str(pag)+\";spanmax1=17+Feb+2019;spanmin1=17+Feb+2014;spanval1=span;team=2;team=6;template=results;type=batting\"\n",
    "\n",
    "    r = requests.get(url)\n",
    "\n",
    "    soup = BeautifulSoup(r.content, 'html.parser')\n",
    "    \n",
    "    if(pag == 1):\n",
    "        table_header = soup.find_all('thead')[0]\n",
    "        cols = [i.get_text() for i in table_header.find_all('a')]\n",
    "        with open('batting.csv', 'w', newline='') as writeFile:\n",
    "            writer = csv.writer(writeFile)\n",
    "            writer.writerows([cols])\n",
    "        \n",
    "    table_body = soup.find_all('tbody')[0].find_all('tr')\n",
    "    with open('batting.csv', 'a', newline='') as writeFile:\n",
    "        writer = csv.writer(writeFile)\n",
    "        for i in table_body:\n",
    "            dat = [j.get_text() for j in i.find_all('td')]\n",
    "            writer.writerows([dat[:-1]])"
   ]
  },
  {
   "cell_type": "code",
   "execution_count": 48,
   "metadata": {},
   "outputs": [],
   "source": [
    "url = \"http://stats.espncricinfo.com/ci/engine/stats/index.html?class=2;filter=advanced;groupby=match;opposition=2;orderby=start;spanmax2=21+Feb+2019;spanmin2=21+Feb+2014;spanval2=span;team=6;template=results;type=team\"\n",
    "\n",
    "r = requests.get(url)\n",
    "\n",
    "soup = BeautifulSoup(r.content, 'html.parser')\n",
    "\n",
    "table_header = soup.find_all('thead')[0]\n",
    "cols = [i.get_text() for i in table_header.find_all('a')]\n",
    "with open('india_australia_data.csv', 'w', newline='') as writeFile:\n",
    "    writer = csv.writer(writeFile)\n",
    "    writer.writerows([cols])\n",
    "\n",
    "table_body = soup.find_all('tbody')[0].find_all('tr')\n",
    "with open('india_australia_data.csv', 'a', newline='') as writeFile:\n",
    "    writer = csv.writer(writeFile)\n",
    "    for i in range(0, len(table_body), 2):\n",
    "        dat = []\n",
    "        dat.append(table_body[i].find_all('td')[0].get_text())\n",
    "        for j in range(1,len(table_body[i+1].find_all('td'))):\n",
    "            if table_body[i+1].find_all('td')[j].get_text() != \"\":\n",
    "                dat.append(table_body[i+1].find_all('td')[j].get_text())    \n",
    "        writer.writerows([dat])\n"
   ]
  },
  {
   "cell_type": "code",
   "execution_count": 3,
   "metadata": {},
   "outputs": [
    {
     "data": {
      "text/plain": [
       "4"
      ]
     },
     "execution_count": 3,
     "metadata": {},
     "output_type": "execute_result"
    }
   ],
   "source": [
    "url = \"http://stats.espncricinfo.com/ci/engine/stats/index.html?class=2;filter=advanced;groupby=match;orderby=start;spanmax1=21+Feb+2019;spanmin1=21+Feb+2014;spanval1=span;team=6;template=results;type=team\"\n",
    "r = requests.get(url)\n",
    "soup = BeautifulSoup(r.content, 'html.parser')\n",
    "pag_no = int(soup.find_all(class_='data2')[7].find_all('td')[0].find_all('b')[1].get_text()) + 1\n",
    "pag_no"
   ]
  },
  {
   "cell_type": "code",
   "execution_count": 4,
   "metadata": {},
   "outputs": [],
   "source": [
    "for pag in range(1,pag_no):\n",
    "    url = \"http://stats.espncricinfo.com/ci/engine/stats/index.html?class=2;page=\"+str(pag)+\";filter=advanced;groupby=match;orderby=start;spanmax1=21+Feb+2019;spanmin1=21+Feb+2014;spanval1=span;team=6;template=results;type=team\"\n",
    "    r = requests.get(url)\n",
    "\n",
    "    soup = BeautifulSoup(r.content, 'html.parser')\n",
    "    \n",
    "    if (pag == 1):\n",
    "        table_header = soup.find_all('thead')[0]\n",
    "        cols = [i.get_text() for i in table_header.find_all('a')]\n",
    "        with open('india_data.csv', 'w', newline='') as writeFile:\n",
    "            writer = csv.writer(writeFile)\n",
    "            writer.writerows([cols])\n",
    "\n",
    "    table_body = soup.find_all('tbody')[0].find_all('tr')\n",
    "    with open('india_data.csv', 'a', newline='') as writeFile:\n",
    "        writer = csv.writer(writeFile)\n",
    "        for i in range(0, len(table_body), 2):\n",
    "            dat = []\n",
    "            dat.append(table_body[i].find_all('td')[0].get_text())\n",
    "            for j in range(1,len(table_body[i+1].find_all('td'))):\n",
    "                if table_body[i+1].find_all('td')[j].get_text() != \"\":\n",
    "                    dat.append(table_body[i+1].find_all('td')[j].get_text())    \n",
    "            writer.writerows([dat])"
   ]
  },
  {
   "cell_type": "code",
   "execution_count": 5,
   "metadata": {},
   "outputs": [
    {
     "data": {
      "text/plain": [
       "3"
      ]
     },
     "execution_count": 5,
     "metadata": {},
     "output_type": "execute_result"
    }
   ],
   "source": [
    "url = \"http://stats.espncricinfo.com/ci/engine/stats/index.html?class=2;filter=advanced;groupby=match;orderby=start;spanmax1=21+Feb+2019;spanmin1=21+Feb+2014;spanval1=span;team=2;template=results;type=team\"\n",
    "r = requests.get(url)\n",
    "soup = BeautifulSoup(r.content, 'html.parser')\n",
    "pag_no = int(soup.find_all(class_='data2')[7].find_all('td')[0].find_all('b')[1].get_text()) + 1\n",
    "pag_no"
   ]
  },
  {
   "cell_type": "code",
   "execution_count": 6,
   "metadata": {},
   "outputs": [],
   "source": [
    "for pag in range(1,pag_no):\n",
    "    url = \"http://stats.espncricinfo.com/ci/engine/stats/index.html?class=2;page=\"+str(pag)+\";filter=advanced;groupby=match;orderby=start;spanmax1=21+Feb+2019;spanmin1=21+Feb+2014;spanval1=span;team=2;template=results;type=team\"\n",
    "    r = requests.get(url)\n",
    "\n",
    "    soup = BeautifulSoup(r.content, 'html.parser')\n",
    "    \n",
    "    if (pag == 1):\n",
    "        table_header = soup.find_all('thead')[0]\n",
    "        cols = [i.get_text() for i in table_header.find_all('a')]\n",
    "        with open('aus_data.csv', 'w', newline='') as writeFile:\n",
    "            writer = csv.writer(writeFile)\n",
    "            writer.writerows([cols])\n",
    "\n",
    "    table_body = soup.find_all('tbody')[0].find_all('tr')\n",
    "    with open('aus_data.csv', 'a', newline='') as writeFile:\n",
    "        writer = csv.writer(writeFile)\n",
    "        for i in range(0, len(table_body), 2):\n",
    "            dat = []\n",
    "            dat.append(table_body[i].find_all('td')[0].get_text())\n",
    "            for j in range(1,len(table_body[i+1].find_all('td'))):\n",
    "                if table_body[i+1].find_all('td')[j].get_text() != \"\":\n",
    "                    dat.append(table_body[i+1].find_all('td')[j].get_text())    \n",
    "            writer.writerows([dat])"
   ]
  },
  {
   "cell_type": "code",
   "execution_count": 10,
   "metadata": {},
   "outputs": [],
   "source": [
    "url = 'http://stats.espncricinfo.com/ci/engine/stats/index.html?class=2;filter=advanced;host=6;orderby=start;spanmin1=21+Feb+2014;spanval1=span;team=2;team=6;template=results;type=aggregate;view=results'\n",
    "\n",
    "r = requests.get(url)\n",
    "soup=BeautifulSoup(r.content,'html.parser')\n",
    "\n",
    "table_header = soup.find_all('thead')[0]\n",
    "cols = [i.get_text() for i in table_header.find_all('th')]\n",
    "with open('ground_data.csv', 'w', newline='') as writeFile:\n",
    "    writer = csv.writer(writeFile)\n",
    "    writer.writerows([cols])\n",
    "\n",
    "table_body = soup.find_all('tbody')[0].find_all('tr')\n",
    "with open('ground_data.csv', 'a', newline='') as writeFile:\n",
    "    writer = csv.writer(writeFile)\n",
    "    for i in table_body:\n",
    "        dat = [j.get_text() for j in i.find_all('td')]\n",
    "        writer.writerows([dat])"
   ]
  },
  {
   "cell_type": "code",
   "execution_count": null,
   "metadata": {},
   "outputs": [],
   "source": [
    "url = \"http://stats.espncricinfo.com/ci/content/records/283123.html\"\n",
    "\n",
    "r = request.get(url)\n",
    "soup=BeautifulSoup(r.content,'html.parser')\n",
    "\n",
    "table_header = soup.find_all('thead')[0]\n",
    "cols = [i.get_text() for i in table_header.find_all('th')]\n",
    "with open('six_data.csv', 'w', newline='') as writeFile:\n",
    "    writer = csv.writer(writeFile)\n",
    "    writer.writerows([cols])\n",
    "\n",
    "table_body = soup.find_all('tbody')[0].find_all('tr')\n",
    "with open('six_data.csv', 'a', newline='') as writeFile:\n",
    "    writer = csv.writer(writeFile)\n",
    "    for i in table_body:\n",
    "        dat = [j.get_text() for j in i.find_all('td')]\n",
    "        writer.writerows([dat])"
   ]
  }
 ],
 "metadata": {
  "kernelspec": {
   "display_name": "Python 3",
   "language": "python",
   "name": "python3"
  },
  "language_info": {
   "codemirror_mode": {
    "name": "ipython",
    "version": 3
   },
   "file_extension": ".py",
   "mimetype": "text/x-python",
   "name": "python",
   "nbconvert_exporter": "python",
   "pygments_lexer": "ipython3",
   "version": "3.6.5"
  }
 },
 "nbformat": 4,
 "nbformat_minor": 2
}
